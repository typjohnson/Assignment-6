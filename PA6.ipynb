{
 "cells": [
  {
   "cell_type": "markdown",
   "id": "2f4c023c",
   "metadata": {},
   "source": [
    "## Ty Johnson\n",
    "## Assignment 6\n",
    "## Version 1\n",
    "## Spring 23"
   ]
  },
  {
   "cell_type": "code",
   "execution_count": 27,
   "id": "d5018570",
   "metadata": {},
   "outputs": [
    {
     "name": "stdout",
     "output_type": "stream",
     "text": [
      "Enter the length of side A: 5\n",
      "Enter the length of side B: 5\n",
      "Enter the length of side C: 5\n",
      "The area of the triangle is approximately 10.825317547305483 square units and the perimeter is 15 linear units.\n"
     ]
    }
   ],
   "source": [
    "import math\n",
    "def triArea(a,b,c):\n",
    "    s = (a + b + c) / 2\n",
    "    area = math.sqrt(s * (s - a) * (s - b) * (s - b))\n",
    "    return area\n",
    "def triPerimeter(a,b,c):\n",
    "    return a + b + c\n",
    "a = int(input('Enter the length of side A: '))\n",
    "b = int(input('Enter the length of side B: '))\n",
    "c = int(input('Enter the length of side C: '))\n",
    "\n",
    "area = triArea(a,b,c)\n",
    "perimeter = triPerimeter(a,b,c)\n",
    "\n",
    "print(f'The area of the triangle is approximately {area} square units and the perimeter is {perimeter} linear units.')"
   ]
  },
  {
   "cell_type": "code",
   "execution_count": 10,
   "id": "fe662317",
   "metadata": {},
   "outputs": [
    {
     "name": "stdout",
     "output_type": "stream",
     "text": [
      "494\n",
      "Guess a number 1-1000: 400\n",
      "Too low! Guess again\n",
      "Guess a number 1-1000: 494\n",
      "You guessed it in 2 tries\n"
     ]
    }
   ],
   "source": [
    "import random as rd\n",
    "\n",
    "\n",
    "def evaluateGuess():\n",
    "    ran = rd.randrange(1,1000)\n",
    "    guessing = True\n",
    "    count = 0\n",
    "    print(ran)\n",
    "    while guessing:\n",
    "        guess = int(input('Guess a number 1-1000: '))\n",
    "        if guess > ran:\n",
    "            print('Too high! Guess again')\n",
    "        elif guess < ran:\n",
    "            print('Too low! Guess again')\n",
    "        elif guess == ran:\n",
    "            count += 1\n",
    "            print(f'You guessed it in {count} tries')\n",
    "            guessing = False\n",
    "        count += 1\n",
    "evaluateGuess()\n",
    "    "
   ]
  },
  {
   "cell_type": "code",
   "execution_count": 23,
   "id": "c6788bdb",
   "metadata": {},
   "outputs": [
    {
     "name": "stdout",
     "output_type": "stream",
     "text": [
      "The mean temperature for the past 7 days is 80.0 degrees.\n",
      "The mean temperature for the past 3 days is 91.0 degrees.\n",
      "The mean temperature for the past 5 days is 85.4 degrees.\n"
     ]
    }
   ],
   "source": [
    "def meanTemp(*args):\n",
    "    print(f'The mean temperature for the past {len(args)} days is {sum(args)/len(args)} degrees.')\n",
    "temp = [70,63,74,80,90,89,94]\n",
    "\n",
    "meanTemp(*temp)\n",
    "meanTemp(*temp[4:])\n",
    "meanTemp(*temp[2:])\n",
    "\n"
   ]
  },
  {
   "cell_type": "code",
   "execution_count": null,
   "id": "85034bc9",
   "metadata": {},
   "outputs": [],
   "source": []
  }
 ],
 "metadata": {
  "kernelspec": {
   "display_name": "Python 3 (ipykernel)",
   "language": "python",
   "name": "python3"
  },
  "language_info": {
   "codemirror_mode": {
    "name": "ipython",
    "version": 3
   },
   "file_extension": ".py",
   "mimetype": "text/x-python",
   "name": "python",
   "nbconvert_exporter": "python",
   "pygments_lexer": "ipython3",
   "version": "3.9.13"
  }
 },
 "nbformat": 4,
 "nbformat_minor": 5
}
